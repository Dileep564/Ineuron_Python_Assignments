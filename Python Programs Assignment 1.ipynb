{
 "cells": [
  {
   "cell_type": "markdown",
   "id": "de2a6cf5-225a-462b-b991-8c5bddf4fbaa",
   "metadata": {},
   "source": [
    "1. Write a Python program to print \"Hello Python\"?"
   ]
  },
  {
   "cell_type": "code",
   "execution_count": 2,
   "id": "59e09b4d-f121-4800-add4-de5497bc0ba6",
   "metadata": {},
   "outputs": [
    {
     "name": "stdout",
     "output_type": "stream",
     "text": [
      "Hello Python\n"
     ]
    }
   ],
   "source": [
    "print(\"Hello Python\")"
   ]
  },
  {
   "cell_type": "markdown",
   "id": "6df5c448-6a82-4ca5-a827-55fb28ef93ae",
   "metadata": {},
   "source": [
    "2. Write a Python program to do arithmetical operations addition and division.?"
   ]
  },
  {
   "cell_type": "code",
   "execution_count": 13,
   "id": "486603a2-6898-40c4-9fe8-2ef0b5e8ec6b",
   "metadata": {},
   "outputs": [
    {
     "name": "stdin",
     "output_type": "stream",
     "text": [
      "Enter a number for A1 : 16\n",
      "Enter a number for B1 : 4\n"
     ]
    },
    {
     "name": "stdout",
     "output_type": "stream",
     "text": [
      "Addition : 20\n",
      "Division : 4.0\n"
     ]
    }
   ],
   "source": [
    "A1= int(input(\"Enter a number for A1 :\"))\n",
    "B1= int(input(\"Enter a number for B1 :\"))\n",
    "\n",
    "## Addition\n",
    "Add = A1 + B1\n",
    "\n",
    "## Division\n",
    "Div = A1/B1\n",
    "\n",
    "print(\"Addition :\", Add)\n",
    "print(\"Division :\", Div)"
   ]
  },
  {
   "cell_type": "markdown",
   "id": "dd207b06-8e39-45a2-81fd-d6200c4b0f0b",
   "metadata": {},
   "source": [
    "3. Write a Python program to find the area of a triangle?"
   ]
  },
  {
   "cell_type": "code",
   "execution_count": 18,
   "id": "f3735879-855b-4a04-99dc-65fdda5dd765",
   "metadata": {},
   "outputs": [
    {
     "name": "stdin",
     "output_type": "stream",
     "text": [
      "Enter the Height Value : 100\n",
      "Enter the Base Value : 4\n"
     ]
    },
    {
     "name": "stdout",
     "output_type": "stream",
     "text": [
      " Area of Triangle : 200.0\n"
     ]
    }
   ],
   "source": [
    "Height = int(input(\"Enter the Height Value :\"))\n",
    "Base = int(input(\"Enter the Base Value :\"))\n",
    "\n",
    "#Formula for Area of Triangle\n",
    "Area = (Height * Base)/2\n",
    "\n",
    "print(\" Area of Triangle :\", Area)"
   ]
  },
  {
   "cell_type": "markdown",
   "id": "8ca02779-2ef1-4e75-931d-b4b53a7579fe",
   "metadata": {},
   "source": [
    "4. Write a Python program to swap two variables?"
   ]
  },
  {
   "cell_type": "code",
   "execution_count": 21,
   "id": "edb1a964-e069-4424-b57e-0ea410bb5b37",
   "metadata": {},
   "outputs": [
    {
     "name": "stdin",
     "output_type": "stream",
     "text": [
      "Enter a number for A : 30\n",
      "Enter a number for B : 50\n"
     ]
    },
    {
     "name": "stdout",
     "output_type": "stream",
     "text": [
      "Value of A Before Swap : 30 Value of B Before Swap : 50\n",
      "Value of A After Swap : 50 Value of B After Swap : 30\n"
     ]
    }
   ],
   "source": [
    "A= int(input(\"Enter a number for A :\"))\n",
    "B= int(input(\"Enter a number for B :\"))\n",
    "\n",
    "#Before Swap\n",
    "print(\"Value of A Before Swap :\", A ,\"Value of B Before Swap :\", B )\n",
    "\n",
    "Temp = A\n",
    "A = B\n",
    "B = Temp \n",
    "#After Swap\n",
    "print(\"Value of A After Swap :\", A ,\"Value of B After Swap :\", B )"
   ]
  },
  {
   "cell_type": "markdown",
   "id": "7a08c60c-79b8-4b2a-917f-62358719be51",
   "metadata": {},
   "source": [
    "5. Write a Python program to generate a random number?"
   ]
  },
  {
   "cell_type": "code",
   "execution_count": 26,
   "id": "b811c4e2-f1e9-48ed-9545-b34936576c89",
   "metadata": {},
   "outputs": [
    {
     "name": "stdout",
     "output_type": "stream",
     "text": [
      "188\n"
     ]
    }
   ],
   "source": [
    "import random\n",
    "\n",
    "random_int = random.randint(1,2000)\n",
    "print(random_int)"
   ]
  },
  {
   "cell_type": "code",
   "execution_count": null,
   "id": "1eb9d836-0b65-47c6-bdcb-f794c9f5075d",
   "metadata": {},
   "outputs": [],
   "source": []
  },
  {
   "cell_type": "code",
   "execution_count": null,
   "id": "b90a5af9-57d1-49f7-9aef-0cacaf27823f",
   "metadata": {},
   "outputs": [],
   "source": []
  },
  {
   "cell_type": "code",
   "execution_count": null,
   "id": "261a16b5-a931-443f-beb4-a7a54c385cd7",
   "metadata": {},
   "outputs": [],
   "source": []
  },
  {
   "cell_type": "code",
   "execution_count": null,
   "id": "d94af735-abe8-4e8f-9e06-7f8eb819c67e",
   "metadata": {},
   "outputs": [],
   "source": []
  },
  {
   "cell_type": "code",
   "execution_count": null,
   "id": "e9a9b219-08cc-4222-81d3-f2196857fa19",
   "metadata": {},
   "outputs": [],
   "source": []
  }
 ],
 "metadata": {
  "kernelspec": {
   "display_name": "Python [conda env:base] *",
   "language": "python",
   "name": "conda-base-py"
  },
  "language_info": {
   "codemirror_mode": {
    "name": "ipython",
    "version": 3
   },
   "file_extension": ".py",
   "mimetype": "text/x-python",
   "name": "python",
   "nbconvert_exporter": "python",
   "pygments_lexer": "ipython3",
   "version": "3.10.9"
  }
 },
 "nbformat": 4,
 "nbformat_minor": 5
}
